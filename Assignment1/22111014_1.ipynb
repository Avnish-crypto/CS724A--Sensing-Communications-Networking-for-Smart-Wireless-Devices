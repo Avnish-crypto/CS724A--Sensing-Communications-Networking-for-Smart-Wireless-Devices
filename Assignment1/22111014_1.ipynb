{
 "cells": [
  {
   "cell_type": "markdown",
   "metadata": {},
   "source": [
    "# Avnish Tripathi\n",
    "# 2211014"
   ]
  },
  {
   "cell_type": "code",
   "execution_count": 18,
   "metadata": {},
   "outputs": [
    {
     "name": "stdout",
     "output_type": "stream",
     "text": [
      "Assignment1.ipynb\n"
     ]
    }
   ],
   "source": [
    "print(\"Assignment1.ipynb\")"
   ]
  },
  {
   "cell_type": "markdown",
   "metadata": {},
   "source": [
    "# Question 1\n",
    "\n",
    "i)  Both Column vector's are Linearly indepenent.So, We can get all vectors of 2-d space from these two vectors. Hence, C(A) = 2\n",
    "\n",
    "ii) Both Column Vectors are not are Linear Independent i.e We can obtain column_vector2 from column_vector1. So, C(B) = 1\n",
    "\n",
    "iii) There are only two Linearly Independent Column vectors as we can obtain column_vector_2 from column_vector1 i.e one vector can be Expressed as a scaled version of another. so, C(D) = 2\n",
    "\n",
    "\n",
    "# Question 2a"
   ]
  },
  {
   "cell_type": "code",
   "execution_count": 19,
   "metadata": {},
   "outputs": [],
   "source": [
    "# importing the required module\n",
    "import numpy as np\n",
    "import pandas as pd\n",
    "import random \n",
    "import matplotlib.pyplot as plt\n",
    "c = 3*(10**8)  # speed of Light\n",
    "ns = 10**-9  # 1ns = 10^-9s\n"
   ]
  },
  {
   "cell_type": "code",
   "execution_count": 20,
   "metadata": {},
   "outputs": [],
   "source": [
    "user = (100,100,100) # (x,y,z) corrdinates system\n",
    "s1 = (100,201,203)\n",
    "s2 = (110,660,99)\n",
    "s3 = (790,854,416)        # y-coordinates of all the satellites should be greater than that of device.\n",
    "s4 = (919,595,130)     \n",
    "s5 = (620,570,330)\n"
   ]
  },
  {
   "cell_type": "code",
   "execution_count": 21,
   "metadata": {},
   "outputs": [],
   "source": [
    "# taking reference at the origin (0,0,0)\n",
    "def distance_cal(user,satellite):\n",
    "    dist = 0\n",
    "    for i in range(3):\n",
    "        dist += (user[i] - satellite[i]) ** 2\n",
    "    dist = dist ** 0.5\n",
    "    time = dist / c\n",
    "    return dist , time #Returning Distance and time"
   ]
  },
  {
   "cell_type": "code",
   "execution_count": 22,
   "metadata": {},
   "outputs": [
    {
     "name": "stdout",
     "output_type": "stream",
     "text": [
      "The distance between satellite1 and user is 144.25671561490648 m and the time taken by radio signal from satellite_1 to reach user is 4.808557187163549e-07 s\n",
      "The distance between satellite2 and user is 560.0901713117273 m and the time taken by radio signal from satellite_2 to reach user is 1.8669672377057577e-06 s\n",
      "The distance between satellite3 and user is 1069.7999813049166 m and the time taken by radio signal from satellite_3 to reach user is 3.5659999376830553e-06 s\n",
      "The distance between satellite4 and user is 957.4372042071479 m and the time taken by radio signal from satellite_4 to reach user is 3.1914573473571597e-06 s\n",
      "The distance between satellite5 and user is 737.6991256603196 m and the time taken by radio signal from satellite_5 to reach user is 2.4589970855343986e-06 s\n"
     ]
    }
   ],
   "source": [
    "\n",
    "r1 , t1 = distance_cal(user,s1)\n",
    "r2 , t2 = distance_cal(user,s2) \n",
    "r3 , t3 = distance_cal(user,s3)    #Calculating Distance and Time\n",
    "r4 , t4 = distance_cal(user,s4)\n",
    "r5 , t5 = distance_cal(user,s5)\n",
    "\n",
    "print(\"The distance between satellite1 and user is\",r1,\"m and the time taken by radio signal from satellite_1 to reach user is\",t1,\"s\")\n",
    "print(\"The distance between satellite2 and user is\",r2,\"m and the time taken by radio signal from satellite_2 to reach user is\",t2,\"s\")\n",
    "print(\"The distance between satellite3 and user is\",r3,\"m and the time taken by radio signal from satellite_3 to reach user is\",t3,\"s\")\n",
    "print(\"The distance between satellite4 and user is\",r4,\"m and the time taken by radio signal from satellite_4 to reach user is\",t4,\"s\")\n",
    "print(\"The distance between satellite5 and user is\",r5,\"m and the time taken by radio signal from satellite_5 to reach user is\",t5,\"s\")\n"
   ]
  },
  {
   "cell_type": "markdown",
   "metadata": {},
   "source": [
    "# Question 2b -"
   ]
  },
  {
   "cell_type": "code",
   "execution_count": 23,
   "metadata": {},
   "outputs": [],
   "source": [
    "# getting coordinates (x,y,z) from respective satellite tuples\n",
    "x1 , x2 , x3 , x4 , x5 = s1[0] , s2[0] , s3[0] , s4[0] , s5[0]\n",
    "y1 , y2 , y3 , y4 , y5 = s1[1] , s2[1] , s3[1] , s4[1] , s5[1]\n",
    "z1 , z2 , z3 ,z4 , z5 = s1[2] , s2[2] , s3[2] , s4[2] , s5[2]"
   ]
  },
  {
   "cell_type": "code",
   "execution_count": 24,
   "metadata": {},
   "outputs": [],
   "source": [
    "\n",
    "# using the Ax = B equations taught in the lecture to get the Coordinates of the user's device\n",
    "A = [\n",
    "    [2*(x2 - x1),2*(y2 - y1),2*(z2 - z1)],   \n",
    "    [2*(x3 - x2),2*(y3 - y2),2*(z3 - z2)],         \n",
    "    [2*(x4 - x3),2*(y4 - y3),2*(z4 - z3)],\n",
    "    [2*(x5 - x4),2*(y5 - y4),2*(z5 - z4)]           # using all 5 satellites for user's coordinates_calculation\n",
    "  ]\n",
    "  \n",
    "B = [\n",
    "    [(r1**2 - r2**2) - (x1**2 - x2**2) - (y1**2 - y2**2) - (z1**2 - z2**2)],\n",
    "    [(r2**2 - r3**2) - (x2**2 - x3**2) - (y2**2 - y3**2) - (z2**2 - z3**2)],\n",
    "    [(r3**2 - r4**2) - (x3**2 - x4**2) - (y3**2 - y4**2) - (z3**2 - z4**2)],\n",
    "    [(r4**2 - r5**2) - (x4**2 - x5**2) - (y4**2 - y5**2) - (z4**2 - z5**2)]\n",
    "]"
   ]
  },
  {
   "cell_type": "code",
   "execution_count": 25,
   "metadata": {},
   "outputs": [],
   "source": [
    "A = np.array(A)\n",
    "B = np.array(B)\n",
    "X = np.matmul(np.linalg.inv(np.matmul(A.transpose(),A)),np.matmul(A.transpose(),B))   #using this expression so that we dont have to worry about A being be non-sqaure matrix."
   ]
  },
  {
   "cell_type": "code",
   "execution_count": 26,
   "metadata": {},
   "outputs": [
    {
     "name": "stdout",
     "output_type": "stream",
     "text": [
      "The coordinates of the user calculated from the its distances to satellites and coordinates of satellites are- [100.] [100.] [100.]\n"
     ]
    }
   ],
   "source": [
    "x , y , z = X[0] , X[1] , X[2]\n",
    "print(\"The coordinates of the user calculated from the its distances to satellites and coordinates of satellites are-\",x , y, z)"
   ]
  },
  {
   "cell_type": "markdown",
   "metadata": {},
   "source": [
    " # Question 2c-\n",
    " \n"
   ]
  },
  {
   "cell_type": "code",
   "execution_count": 27,
   "metadata": {},
   "outputs": [
    {
     "name": "stdout",
     "output_type": "stream",
     "text": [
      "The random delay added is 2.222836419770886e-08 s\n"
     ]
    }
   ],
   "source": [
    "Dt = random.uniform(10*ns,30*ns)            #generate delay between 10 to 30 ns because even small change in time can lead to large change in Location \n",
    "print(\"The random delay added is\",Dt,\"s\")   #Because Radio Signals Travel with the speed of the Light.\n",
    "# Recalculating distance due to change in time due to addition of random delay\n",
    "r1 = (t1 + Dt) * c   \n",
    "r2 = (t2 + Dt) * c\n",
    "r3 = (t3 + Dt) * c  # Distance = Speed * time\n",
    "r4 = (t4 + Dt) * c\n",
    "r5 = (t5 + Dt) * c"
   ]
  },
  {
   "cell_type": "code",
   "execution_count": 28,
   "metadata": {},
   "outputs": [],
   "source": [
    "# Computing A and B again now with the updated Distances due to Delay\n",
    "A = [\n",
    "    [2*(x2 - x1),2*(y2 - y1),2*(z2 - z1)],   \n",
    "    [2*(x3 - x2),2*(y3 - y2),2*(z3 - z2)],         \n",
    "    [2*(x4 - x3),2*(y4 - y3),2*(z4 - z3)],\n",
    "    [2*(x5 - x4),2*(y5 - y4),2*(z5 - z4)]          \n",
    "  ]\n",
    "  \n",
    "B = [\n",
    "    [(r1**2 - r2**2) - (x1**2 - x2**2) - (y1**2 - y2**2) - (z1**2 - z2**2)],\n",
    "    [(r2**2 - r3**2) - (x2**2 - x3**2) - (y2**2 - y3**2) - (z2**2 - z3**2)],\n",
    "    [(r3**2 - r4**2) - (x3**2 - x4**2) - (y3**2 - y4**2) - (z3**2 - z4**2)],\n",
    "    [(r4**2 - r5**2) - (x4**2 - x5**2) - (y4**2 - y5**2) - (z4**2 - z5**2)]\n",
    "]\n"
   ]
  },
  {
   "cell_type": "code",
   "execution_count": 29,
   "metadata": {},
   "outputs": [],
   "source": [
    "A = np.array(A)\n",
    "B = np.array(B)\n",
    "X = np.matmul(np.linalg.inv(np.matmul(A.transpose(),A)),np.matmul(A.transpose(),B))  #using this expression so that we dont have to worry about A being be non-sqaure matrix."
   ]
  },
  {
   "cell_type": "code",
   "execution_count": 30,
   "metadata": {},
   "outputs": [
    {
     "name": "stdout",
     "output_type": "stream",
     "text": [
      "User Coordinates Calculated after addition of Delay-\n",
      "[96.21639401] [94.24068269] [100.91187898]\n"
     ]
    }
   ],
   "source": [
    "x , y , z= X[0] , X[1] , X[2]\n",
    "print(\"User Coordinates Calculated after addition of Delay-\")\n",
    "print(x , y , z)"
   ]
  },
  {
   "cell_type": "markdown",
   "metadata": {},
   "source": [
    "Only by adding delay of nanoseconds we can see Very much change in the Location coordinates.\n"
   ]
  },
  {
   "cell_type": "code",
   "execution_count": 31,
   "metadata": {},
   "outputs": [
    {
     "name": "stdout",
     "output_type": "stream",
     "text": [
      "The location inaccuracy is 6.951038299260048 m\n"
     ]
    }
   ],
   "source": [
    "# Location Inaccuracy = Absolute differnce between user's locaction and  Wrong Predicted location because of Random error that we added.\n",
    "d_inaccuracy ,t = distance_cal(user,X)\n",
    "print(\"The location inaccuracy is\",float(d_inaccuracy),\"m\")"
   ]
  },
  {
   "cell_type": "markdown",
   "metadata": {},
   "source": [
    "# Question 2d)- \n",
    "EXPLANATION-\n",
    "Initally I have taken delay and dist lists to store the timing delay and the localization error then i have calculated the average localization error and average delay because to handle the randomness of the random function that i am using to introduce delays (Code inside the second for loop). Then, we are storing the average delay and average localization error in x and y list respectively for plotting the graph. "
   ]
  },
  {
   "cell_type": "code",
   "execution_count": 32,
   "metadata": {},
   "outputs": [],
   "source": [
    "y = []  # Location_Inaccuracy List\n",
    "x = []  # Delay List\n",
    "for i in range(1,11):\n",
    "    for j in range(5):    # for taking average of delays between defined time delays.\n",
    "        delay = list() \n",
    "        dist = list()\n",
    "        Dt = random.uniform(i*10*ns,(i+1)*10*ns)\n",
    "        r1 = (t1 + Dt) * c\n",
    "        r2 = (t2 + Dt) * c           \n",
    "        r3 = (t3 + Dt) * c      #Introducing Delays\n",
    "        r4 = (t4 + Dt) * c\n",
    "        r5 = (t5 + Dt) * c\n",
    "        A = [\n",
    "            [2*(x2 - x1),2*(y2 - y1),2*(z2 - z1)],   \n",
    "            [2*(x3 - x2),2*(y3 - y2),2*(z3 - z2)],         \n",
    "            [2*(x4 - x3),2*(y4 - y3),2*(z4 - z3)],\n",
    "            [2*(x5 - x4),2*(y5 - y4),2*(z5 - z4)]          \n",
    "            ]\n",
    "    \n",
    "        B = [\n",
    "            [(r1**2 - r2**2) - (x1**2 - x2**2) - (y1**2 - y2**2) - (z1**2 - z2**2)],\n",
    "            [(r2**2 - r3**2) - (x2**2 - x3**2) - (y2**2 - y3**2) - (z2**2 - z3**2)],\n",
    "            [(r3**2 - r4**2) - (x3**2 - x4**2) - (y3**2 - y4**2) - (z3**2 - z4**2)],\n",
    "            [(r4**2 - r5**2) - (x4**2 - x5**2) - (y4**2 - y5**2) - (z4**2 - z5**2)]\n",
    "            ]\n",
    "            \n",
    "        A = np.array(A)\n",
    "        B = np.array(B)\n",
    "        X = np.matmul(np.linalg.inv(np.matmul(A.transpose(),A)),np.matmul(A.transpose(),B))\n",
    "        d_inaccuracy , t = distance_cal(user,X)\n",
    "\n",
    "        delay.append(Dt)\n",
    "        dist.append(float(d_inaccuracy))  #Calculating Location_inaccuracy\n",
    "\n",
    "    y.append(sum(dist)/len(dist))   # Appending average of Localization Error\n",
    "    x.append(sum(delay)/len(delay))"
   ]
  },
  {
   "cell_type": "code",
   "execution_count": 33,
   "metadata": {},
   "outputs": [
    {
     "data": {
      "image/png": "[encoded data removed]",
      "text/plain": [
       "<Figure size 432x288 with 1 Axes>"
      ]
     },
     "metadata": {
      "needs_background": "light"
     },
     "output_type": "display_data"
    }
   ],
   "source": [
    "# plotting the points  \n",
    "plt.scatter(x,y) \n",
    "    \n",
    "# naming the x axis \n",
    "plt.xlabel('Time_delay(ns)') \n",
    "# naming the y axis \n",
    "plt.ylabel('Location_inaccuracy(m)') \n",
    "    \n",
    "# giving a title to my graph \n",
    "plt.title('Localization_error vs time') \n",
    "    \n",
    "# function to show the plot \n",
    "plt.show() "
   ]
  },
  {
   "cell_type": "markdown",
   "metadata": {},
   "source": [
    "Average Localization Error's"
   ]
  },
  {
   "cell_type": "code",
   "execution_count": 34,
   "metadata": {},
   "outputs": [
    {
     "name": "stdout",
     "output_type": "stream",
     "text": [
      "The average location error for time delay ( 1 to 2 ) ns is 3.3535046594283653 m\n",
      "The average location error for time delay ( 2 to 3 ) ns is 7.973416096638832 m\n",
      "The average location error for time delay ( 3 to 4 ) ns is 12.336761230895778 m\n",
      "The average location error for time delay ( 4 to 5 ) ns is 14.771025372111191 m\n",
      "The average location error for time delay ( 5 to 6 ) ns is 15.67685707314217 m\n",
      "The average location error for time delay ( 6 to 7 ) ns is 20.890324279713 m\n",
      "The average location error for time delay ( 7 to 8 ) ns is 24.311726695970936 m\n",
      "The average location error for time delay ( 8 to 9 ) ns is 27.894251965272467 m\n",
      "The average location error for time delay ( 9 to 10 ) ns is 31.237681953492288 m\n",
      "The average location error for time delay ( 10 to 11 ) ns is 31.650116631468894 m\n"
     ]
    }
   ],
   "source": [
    "for i in range(len(x)):\n",
    "    print(\"The average location error for time delay (\",i+1,\"to\",i+2,\") ns is\",y[i],\"m\")\n"
   ]
  }
 ],
 "metadata": {
  "kernelspec": {
   "display_name": "Python 3.9.7 ('base')",
   "language": "python",
   "name": "python3"
  },
  "language_info": {
   "codemirror_mode": {
    "name": "ipython",
    "version": 3
   },
   "file_extension": ".py",
   "mimetype": "text/x-python",
   "name": "python",
   "nbconvert_exporter": "python",
   "pygments_lexer": "ipython3",
   "version": "3.9.7"
  },
  "orig_nbformat": 4,
  "vscode": {
   "interpreter": {
    "hash": "631af202ec7c40e141c49d63cac6c8cb664469fed6e4d5ddc6436b49edc60500"
   }
  }
 },
 "nbformat": 4,
 "nbformat_minor": 2
}
